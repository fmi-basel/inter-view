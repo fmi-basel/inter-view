{
 "cells": [
  {
   "cell_type": "markdown",
   "metadata": {},
   "source": [
    "# Export RGB crops from channel overviews"
   ]
  },
  {
   "cell_type": "code",
   "execution_count": null,
   "metadata": {},
   "outputs": [],
   "source": [
    "import os\n",
    "import numpy as np\n",
    "import matplotlib.pyplot as plt\n",
    "from skimage.exposure import rescale_intensity\n",
    "from improc.io import parse_collection, DCAccessor\n",
    "from improc.metadata import imagej_imsave\n",
    "from skimage.io import imsave\n",
    "from holoviews import opts\n",
    "from inter_view.figures import CompositeFigureMaker\n",
    "from inter_view.utils import make_composite\n",
    "DCAccessor.register()\n",
    "\n",
    "from inter_view.dashboards import CompositeExportDashBoard\n",
    "\n",
    "import holoviews as hv\n",
    "hv.extension('bokeh', width=100)"
   ]
  },
  {
   "cell_type": "markdown",
   "metadata": {},
   "source": [
    "# config\n",
    "configure file parsing and channel display options. Remove the `intensity_bounds` for autoscaling"
   ]
  },
  {
   "cell_type": "code",
   "execution_count": null,
   "metadata": {},
   "outputs": [],
   "source": [
    "px_size = 0.322\n",
    "basedir = '../../data/2D'\n",
    "outdir = '../../data/2D_out'\n",
    "data_pattern = '{platedir}/{subdir}/{f1}_{f2}_{f3}_{row}{col:02d}_T{T:04d}F{field:03d}L{L:02d}A{A:02d}Z{zslice:02d}C{channel:02d}.{ext}'\n",
    "index = ['platedir','subdir','row', 'col', 'field', 'zslice', 'channel']\n",
    "\n",
    "channel_config = {'marker1':{'cmap':'cyan','intensity_bounds':(0,2**16), 'slider_limits':(0,2**16)},\n",
    "                  'marker2':{'cmap':'magenta','intensity_bounds':(0,2**16), 'slider_limits':(0,2**16)},\n",
    "                  'marker3':{'cmap':'yellow','intensity_bounds':(0,2**16), 'slider_limits':(0,2**16)}}\n",
    "\n",
    "ch_lut = {1: 'marker1', 2: 'marker2', 3: 'marker3'}\n",
    "\n",
    "\n",
    "opts.defaults(opts.Image('channel', frame_width=1500))"
   ]
  },
  {
   "cell_type": "markdown",
   "metadata": {},
   "source": [
    "# parse files"
   ]
  },
  {
   "cell_type": "code",
   "execution_count": null,
   "metadata": {},
   "outputs": [],
   "source": [
    "df = parse_collection(os.path.join(basedir, data_pattern), index)\n",
    "\n",
    "# reindex with label instead of channel id\n",
    "df.reset_index('channel', inplace=True)\n",
    "df['ch_label'] = df.channel.map(ch_lut)\n",
    "df.set_index('ch_label', append=True, inplace=True)\n",
    "\n",
    "df = df.dc[:,'TIF_OVR_MIP']\n",
    "df.reset_index(['field', 'zslice'], inplace=True)\n",
    "df"
   ]
  },
  {
   "cell_type": "markdown",
   "metadata": {},
   "source": [
    "# Interactive figure export dashboard\n",
    "\n",
    "- To draw a roi, activate the \"Box Edit Tool\" on the right of the image, press shift or double click and drag the mouse.\n",
    "- for fine cursor adjustment, click once on the cursor and use the arrow keys (tested in chrome)\n",
    "- exporting a full overview (i.e. without selecting a ROI) might run out of memory\n",
    "\n",
    "Export functions:\n",
    "- export color tif: RGB tif with blended channels, same resolution as original\n",
    "- export imagej: raw data saved as composite tif and cmap/intensity bounds metadata\n",
    "- export figure: exports png rgb image with scale bar and legends"
   ]
  },
  {
   "cell_type": "code",
   "execution_count": null,
   "metadata": {
    "scrolled": false
   },
   "outputs": [],
   "source": [
    "from skimage.io import imread\n",
    "\n",
    "def read_first_slice(path):\n",
    "    '''Reads only the first slice and caches the last set of channels'''    \n",
    "    return imread(path, img_num=0)\n",
    "\n",
    "# wrap export functions\n",
    "def export_imagej(path, imgs, cmaps, intensity_bounds, labels):\n",
    "    img = np.stack(imgs, axis=-1)\n",
    "    os.makedirs(os.path.dirname(path), exist_ok=True)\n",
    "    imagej_imsave(path, np.stack(imgs, axis=-1), cmaps, intensity_bounds)\n",
    "export_imagej.name = 'export imagej'\n",
    "\n",
    "def export_color_tif(path, imgs, cmaps, intensity_bounds, labels):\n",
    "    pre, ext = os.path.splitext(path)\n",
    "    path = pre + '_blended' + ext\n",
    "    \n",
    "    imgs = [rescale_intensity(img, in_range=b, out_range=np.uint8).astype(np.uint8) for img,b in zip(imgs, intensity_bounds)]\n",
    "    rgb_img = make_composite(imgs, cmaps)\n",
    "    os.makedirs(os.path.dirname(path), exist_ok=True)\n",
    "    imsave(path, rgb_img, compress=9)\n",
    "export_color_tif.name = 'export color tif'\n",
    "    \n",
    "def export_figure(path, imgs, cmaps, intensity_bounds, labels):\n",
    "    pre, ext = os.path.splitext(path)\n",
    "    path = pre + '.png'\n",
    "    \n",
    "    cfm = CompositeFigureMaker(scale=px_size, show_legend=True, bar_lengths=[20,50], legend_pos='lower left', scale_bar_pos='lower right')\n",
    "    fig = cfm(imgs, cmaps, intensity_bounds, labels)\n",
    "    os.makedirs(os.path.dirname(path), exist_ok=True)\n",
    "    fig.savefig(path, bbox_inches='tight', pad_inches=0)\n",
    "export_figure.name = 'export figure'\n",
    "\n",
    "db = CompositeExportDashBoard(df=df.dc[:,['TIF_OVR_MIP'],:],\n",
    "                              multi_select_levels=['ch_label'],\n",
    "                              loading_fun=read_first_slice,\n",
    "                              channel_config=channel_config,\n",
    "                              export_funs=[export_color_tif, export_imagej, export_figure],\n",
    "                              out_folder=outdir)\n",
    "\n",
    "db.panel()"
   ]
  }
 ],
 "metadata": {
  "kernelspec": {
   "display_name": "gliberal",
   "language": "python",
   "name": "gliberal"
  },
  "language_info": {
   "codemirror_mode": {
    "name": "ipython",
    "version": 3
   },
   "file_extension": ".py",
   "mimetype": "text/x-python",
   "name": "python",
   "nbconvert_exporter": "python",
   "pygments_lexer": "ipython3",
   "version": "3.7.10"
  }
 },
 "nbformat": 4,
 "nbformat_minor": 2
}

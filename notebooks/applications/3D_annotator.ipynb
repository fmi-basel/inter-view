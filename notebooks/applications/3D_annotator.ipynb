{
 "cells": [
  {
   "cell_type": "markdown",
   "metadata": {},
   "source": [
    "# Annotation tool to create/correct 3D training labels"
   ]
  },
  {
   "cell_type": "code",
   "execution_count": null,
   "metadata": {
    "scrolled": false
   },
   "outputs": [],
   "source": [
    "import os\n",
    "import numpy as np\n",
    "from improc.io import parse_collection, DCAccessor\n",
    "DCAccessor.register()\n",
    "from holoviews import opts\n",
    "\n",
    "from inter_view.dashboards import OrthoAnnotationDashBoard\n",
    "\n",
    "from IPython.core.display import display, HTML\n",
    "display(HTML(\"<style>.container { width:100% !important; }</style>\"))"
   ]
  },
  {
   "cell_type": "markdown",
   "metadata": {},
   "source": [
    "# config"
   ]
  },
  {
   "cell_type": "code",
   "execution_count": null,
   "metadata": {},
   "outputs": [],
   "source": [
    "basedir = '../../data/3D'\n",
    "data_pattern = '{subdir}/{fname}-T{time:04d}.{ext}'\n",
    "index = ['subdir', 'time']\n",
    "\n",
    "channel_config = {'nuclei':{'cmap':'gray'},\n",
    "                  'nuclei_annot':{'cmap':'glasbey_hv_16bit', 'raster_aggregator':'first', 'intensity_bounds':(-2**15,2**15-1), 'slider_limits':(-2**15,2**15-1), 'bitdepth':'int16', 'opacity':0.5},}\n",
    "\n",
    "def set_inactive_tool(plot, element):\n",
    "    plot.state.toolbar.active_inspect = None\n",
    "\n",
    "opts.defaults(opts.Image('channel.nuclei', frame_width=1000),\n",
    "              opts.Image('channel.nuclei_annot', frame_width=1000, clipping_colors={'min': (0, 0, 0, 0)}, clim=(0,2**16-1), hooks=[set_inactive_tool], tools=['hover'], show_title=False),\n",
    "             )"
   ]
  },
  {
   "cell_type": "markdown",
   "metadata": {},
   "source": [
    "# parse files"
   ]
  },
  {
   "cell_type": "code",
   "execution_count": null,
   "metadata": {},
   "outputs": [],
   "source": [
    "df = parse_collection(os.path.join(basedir, data_pattern), index)\n",
    "df = df.dc[['nuclei', 'nuclei_annot']]\n",
    "\n",
    "df"
   ]
  },
  {
   "cell_type": "markdown",
   "metadata": {},
   "source": [
    "# interactive dashboard\n",
    "To start drawing select the 'Freehand Drawing Tool' in the toolbar on the right of the image.\n",
    "\n",
    "- drawing label:\n",
    "    - -1: un-annotated (does not contribute to the training loss)\n",
    "    - 0: background\n",
    "    - [1...] instance labels. last one in the list is always unused\n",
    "- on click\n",
    "    - \\-: does nothing\n",
    "    - pick label (pipette): sets label at the clicked position as drawing label\n",
    "    - fill label (pot filling): fill the label at the clicked label with the current drawing labels (discontinuous)\n",
    "- lock\n",
    "    - background: prevent from drawing over the existing background\n",
    "    - foreground: prevents from drawing over the existing labels\n",
    "- draw in 3D: draw with thickness in the 3rd dimension. best used to draw an initial \"ball\" at the center of each nuclei\n",
    "- save: saves the current annotation. The current annotation is also automatically saved when loading a new image\n",
    "- discard changes: Cancels all changes made since the last save (i.e. not a granual ctrl+z!)"
   ]
  },
  {
   "cell_type": "code",
   "execution_count": null,
   "metadata": {
    "scrolled": false
   },
   "outputs": [],
   "source": [
    "db = OrthoAnnotationDashBoard(df=df,\n",
    "                           multi_select_levels=['subdir'],\n",
    "                           channel_config=channel_config,\n",
    "                           composite_channels=['nuclei'],\n",
    "                           overlay_channels=['nuclei_annot'],\n",
    "                           spacing=(2,0.26,0.26),\n",
    "                           annot_channel='nuclei_annot')\n",
    "\n",
    "db.panel().servable()"
   ]
  }
 ],
 "metadata": {
  "kernelspec": {
   "display_name": "gliberal",
   "language": "python",
   "name": "gliberal"
  },
  "language_info": {
   "codemirror_mode": {
    "name": "ipython",
    "version": 3
   },
   "file_extension": ".py",
   "mimetype": "text/x-python",
   "name": "python",
   "nbconvert_exporter": "python",
   "pygments_lexer": "ipython3",
   "version": "3.7.10"
  }
 },
 "nbformat": 4,
 "nbformat_minor": 2
}

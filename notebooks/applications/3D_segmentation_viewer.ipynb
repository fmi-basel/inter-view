{
 "cells": [
  {
   "cell_type": "code",
   "execution_count": null,
   "metadata": {},
   "outputs": [],
   "source": [
    "import os\n",
    "from improc.io import parse_collection, DCAccessor\n",
    "DCAccessor.register()\n",
    "from holoviews import opts\n",
    "\n",
    "from inter_view.dashboards import SegmentationDashBoard, DashBoardCallback"
   ]
  },
  {
   "cell_type": "markdown",
   "metadata": {},
   "source": [
    "# config"
   ]
  },
  {
   "cell_type": "code",
   "execution_count": null,
   "metadata": {},
   "outputs": [],
   "source": [
    "outdir = '../../data/3D_corrections'\n",
    "basedir = '../../data/3D'\n",
    "data_pattern = '{subdir}/{fname}-T{time:04d}.{ext}'\n",
    "index = ['subdir', 'time']\n",
    "\n",
    "channel_config = {'membrane':{'cmap':'red'},\n",
    "                  'nuclei':{'cmap':'gray'},\n",
    "                  'nuclei_seg':{'cmap':'glasbey_hv_16bit', 'raster_aggregator':'first', 'intensity_bounds':(0,2**16-1), 'bitdepth':16, 'opacity':0.5}}\n",
    "\n",
    "\n",
    "opts.defaults(opts.Image('channel.nuclei', frame_width=1000),\n",
    "              opts.Image('channel.nuclei_seg', frame_width=1000, clipping_colors={'min': (0, 0, 0, 0)}, clim=(1,2**16-1), tools=['hover'], show_title=False),)"
   ]
  },
  {
   "cell_type": "markdown",
   "metadata": {},
   "source": [
    "# parse files"
   ]
  },
  {
   "cell_type": "code",
   "execution_count": null,
   "metadata": {},
   "outputs": [],
   "source": [
    "df = parse_collection(os.path.join(basedir, data_pattern), index)\n",
    "df = df.dc[['membrane', 'nuclei', 'nuclei_seg']]\n",
    "\n",
    "# filter samples for which the segmentation is available\n",
    "df = df.groupby(['time'],).filter(lambda x: 'nuclei_seg' in x.reset_index().subdir.tolist())\n",
    "\n",
    "\n",
    "df"
   ]
  },
  {
   "cell_type": "markdown",
   "metadata": {},
   "source": [
    "# interactive dashboard\n",
    "Arbitrary callbacks acting on the currently open image can be setup. The example below illustrate how to copy the current nuclei image and its segmentation in a \"correction\" folder"
   ]
  },
  {
   "cell_type": "code",
   "execution_count": null,
   "metadata": {},
   "outputs": [],
   "source": [
    "import panel as pn\n",
    "import param\n",
    "    \n",
    "class SegmentationCallbackDashBoard(SegmentationDashBoard, DashBoardCallback):\n",
    "    ''''''\n",
    "\n",
    "    @param.depends('_complete_update_counter')\n",
    "    def widgets(self):\n",
    "        wg = [super().widgets(), self._export_widgets()]\n",
    "        return pn.Column(*wg)"
   ]
  },
  {
   "cell_type": "code",
   "execution_count": null,
   "metadata": {
    "scrolled": false
   },
   "outputs": [],
   "source": [
    "import shutil\n",
    "import numpy as np\n",
    "\n",
    "def copy_for_training(db):    \n",
    "    subdf = db.subdf.dc[['nuclei', 'nuclei_seg']].reset_index()\n",
    "    \n",
    "    subdf_out = subdf.copy()\n",
    "    subdf_out.basedir = db.out_folder\n",
    "    subdf_out.replace('nuclei_seg', 'nuclei_annot', inplace=True)\n",
    "    \n",
    "    subdf.set_index('subdir', inplace=True)\n",
    "    subdf_out.set_index('subdir', inplace=True)\n",
    "    \n",
    "    # copy channel\n",
    "    ch_in_path = subdf.dc['nuclei'].dc.path[0]\n",
    "    ch_out_path = subdf_out.dc['nuclei'].dc.path[0]\n",
    "    os.makedirs(os.path.dirname(ch_out_path), exist_ok=True)\n",
    "    shutil.copyfile(ch_in_path, ch_out_path)\n",
    "    \n",
    "    # save labels as signed int 16\n",
    "    pred = subdf.dc['nuclei_seg'].dc.read()[0]\n",
    "    subdf_out.dc['nuclei_annot'].dc.write(pred.astype(np.int16), compress=9)\n",
    "\n",
    "    \n",
    "copy_for_training.name = 'copy nuclei seg for correction'\n",
    "\n",
    "db = SegmentationCallbackDashBoard(df=df,\n",
    "                                   multi_select_levels=['subdir'],\n",
    "                                   channel_config=channel_config,\n",
    "                                   composite_channels=['membrane', 'nuclei'],\n",
    "                                   overlay_channels=['nuclei_seg'],\n",
    "                                   export_funs=[copy_for_training],\n",
    "                                   out_folder=outdir\n",
    "                                  )\n",
    "\n",
    "db.panel().servable()"
   ]
  }
 ],
 "metadata": {
  "kernelspec": {
   "display_name": "gliberal",
   "language": "python",
   "name": "gliberal"
  },
  "language_info": {
   "codemirror_mode": {
    "name": "ipython",
    "version": 3
   },
   "file_extension": ".py",
   "mimetype": "text/x-python",
   "name": "python",
   "nbconvert_exporter": "python",
   "pygments_lexer": "ipython3",
   "version": "3.7.10"
  }
 },
 "nbformat": 4,
 "nbformat_minor": 2
}

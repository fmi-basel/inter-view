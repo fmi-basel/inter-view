{
 "cells": [
  {
   "cell_type": "markdown",
   "metadata": {},
   "source": [
    "# Overlay of segmentation labels on original image"
   ]
  },
  {
   "cell_type": "code",
   "execution_count": null,
   "metadata": {
    "scrolled": true
   },
   "outputs": [],
   "source": [
    "import os\n",
    "import shutil\n",
    "import numpy as np\n",
    "import matplotlib.pyplot as plt\n",
    "from improc.io import parse_collection, DCAccessor\n",
    "DCAccessor.register()\n",
    "from holoviews import opts\n",
    "\n",
    "import param\n",
    "import panel as pn\n",
    "from inter_view.dashboards import SegmentationExportDashBoard\n",
    "\n",
    "from skimage.io import imsave, imread\n",
    "from skimage.segmentation import relabel_sequential\n",
    "\n",
    "import holoviews as hv\n",
    "hv.extension('bokeh', width=100)"
   ]
  },
  {
   "cell_type": "markdown",
   "metadata": {},
   "source": [
    "# config\n",
    "configure file parsing and channel display options. Remove the `intensity_bounds` for autoscaling"
   ]
  },
  {
   "cell_type": "code",
   "execution_count": null,
   "metadata": {
    "scrolled": true
   },
   "outputs": [],
   "source": [
    "basedir = '../../data/2D'\n",
    "outdir = '../../data/2D_corrections' # output directory for files saved with gui\n",
    "img_subdir = 'TIF_OVR_MIP'\n",
    "segmentation_subdir = 'TIF_OVR_MIP_SEG'\n",
    "\n",
    "data_pattern = '{platedir}/{layer}/{f1}_{f2}_{f3}_{row}{col:02d}_T{T:04d}F{field:03d}L{L:02d}A{A:02d}Z{zslice:02d}C{channel:02d}.{ext}'\n",
    "index = ['layer', 'platedir','row', 'col', 'field', 'zslice', 'channel']\n",
    "\n",
    "channel_config = {img_subdir:{'cmap':'gray','intensity_bounds':(200,18500), 'slider_limits':(0,2**16)},\n",
    "                  segmentation_subdir:{'cmap':'glasbey_hv_16bit', 'raster_aggregator':'first', 'intensity_bounds':(0,2**16-1), 'bitdepth':16, 'opacity':0.5}}\n",
    "\n",
    "opts.defaults(opts.Image('channel.{}'.format(segmentation_subdir), clipping_colors={'min': (0, 0, 0, 0)}, clim=(1,256*256-1), tools=['hover']),\n",
    "              opts.Image('channel', frame_width=1500))"
   ]
  },
  {
   "cell_type": "markdown",
   "metadata": {},
   "source": [
    "# parse files\n",
    "- multi-index levels will be available as drop-down menus in the gui"
   ]
  },
  {
   "cell_type": "code",
   "execution_count": null,
   "metadata": {
    "scrolled": true
   },
   "outputs": [],
   "source": [
    "df = parse_collection(os.path.join(basedir, data_pattern), index)\n",
    "\n",
    "# filter groups that contains a segmentation image\n",
    "df = df.groupby(['platedir','row', 'col', 'channel'],).filter(lambda x: segmentation_subdir in x.reset_index().layer.tolist())\n",
    "df.reset_index(['field', 'zslice', 'channel'], inplace=True)\n",
    "df = df.dc[[img_subdir, segmentation_subdir]]\n",
    "\n",
    "df"
   ]
  },
  {
   "cell_type": "markdown",
   "metadata": {},
   "source": [
    "# dashboard\n",
    "To create a new training set by manually correcting errors:\n",
    "1. Activate the \"Box Edit Tool\" and draw an ROI on the image (shift + click/drag)\n",
    "1. Select \"copy for training\" and click \"export\" to copy the original image and its predicted segmentation. \n",
    "1. It will creates 3 sub-folders: raw, pred, annot. annot initially contains a copy of the prediction and needs to be manually corrected.\n"
   ]
  },
  {
   "cell_type": "code",
   "execution_count": null,
   "metadata": {
    "scrolled": false
   },
   "outputs": [],
   "source": [
    "def read_first_slice(path):\n",
    "    '''Reads only the first slice\n",
    "    \n",
    "    (TIF_OVR contain a second tiles mask channel)\n",
    "    '''    \n",
    "    return imread(path, img_num=0)\n",
    "\n",
    "def copy_for_training(path, imgs, cmaps, intensity_bounds, labels):\n",
    "    print(path)\n",
    "    basedir, filename = os.path.split(path)\n",
    "    labels = [l.replace(segmentation_subdir, 'annot').replace(img_subdir, 'raw') for l in labels]\n",
    "    print(labels)\n",
    "    imgs = {key:val for key,val in zip(labels, imgs)}\n",
    "    imgs['annot'] = relabel_sequential(imgs['annot'])[0]\n",
    "    imgs['annot'] = imgs['annot'].astype(np.int16)\n",
    "    imgs['pred'] = imgs['annot']\n",
    "    \n",
    "    for label, img in imgs.items():\n",
    "#         outdir = os.path.join(basedir, label)\n",
    "        os.makedirs(outdir, exist_ok=True)\n",
    "        outpath = os.path.join(outdir, filename)            \n",
    "        imsave(outpath, img, compress=5)\n",
    "copy_for_training.name = 'copy for training'\n",
    "\n",
    "db = SegmentationExportDashBoard(df=df,\n",
    "                                 multi_select_levels=['layer'],\n",
    "                                 loading_fun=read_first_slice,\n",
    "                                 channel_config=channel_config,\n",
    "                                 composite_channels=[img_subdir],\n",
    "                                 overlay_channels=[segmentation_subdir],\n",
    "                                 export_funs=[copy_for_training],\n",
    "                                 out_folder=outdir)\n",
    "\n",
    "db.panel()"
   ]
  }
 ],
 "metadata": {
  "kernelspec": {
   "display_name": "Python [conda env:scratch]",
   "language": "python",
   "name": "conda-env-scratch-py"
  },
  "language_info": {
   "codemirror_mode": {
    "name": "ipython",
    "version": 3
   },
   "file_extension": ".py",
   "mimetype": "text/x-python",
   "name": "python",
   "nbconvert_exporter": "python",
   "pygments_lexer": "ipython3",
   "version": "3.7.9"
  }
 },
 "nbformat": 4,
 "nbformat_minor": 2
}

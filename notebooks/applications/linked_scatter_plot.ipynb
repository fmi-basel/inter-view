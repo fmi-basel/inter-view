{
 "cells": [
  {
   "cell_type": "code",
   "execution_count": null,
   "metadata": {},
   "outputs": [],
   "source": [
    "import os\n",
    "import pandas as pd\n",
    "import param\n",
    "import panel as pn\n",
    "import numpy as np\n",
    "\n",
    "\n",
    "import holoviews as hv\n",
    "from holoviews import opts\n",
    "\n",
    "from inter_view.dashboards import SegmentationDashBoard, ScatterDashBoard, LinkedScatterImageDashBoard\n",
    "from improc.io import parse_collection, DCAccessor\n",
    "\n",
    "pn.extension()\n",
    "hv.extension('bokeh', width=100)"
   ]
  },
  {
   "cell_type": "markdown",
   "metadata": {},
   "source": [
    "# config\n",
    "\n",
    "- set the `basedir` as the folder where the aggregated features and parsed data collection are exported\n",
    "- add entries in `channel_config` that match your  channels and labels as needed\n",
    "- once you find reasonable intensity clipping bounds for each channel, you can specify the default here. If none are specifed, the bounds are adjusted automatically for each image until the slider is moved.\n",
    "- points size, alpha, etc. of the scatter plot can also be adjusted here"
   ]
  },
  {
   "cell_type": "code",
   "execution_count": null,
   "metadata": {},
   "outputs": [],
   "source": [
    "basedir='../../data/2D/props'\n",
    "\n",
    "channel_config = {'TIF-OVR-MIP-1':{'cmap':'gray'},#, 'intensity_bounds':(300,10000), 'slider_limits':(0,20000)},\n",
    "                  'TIF-OVR-MIP-2':{'cmap':'cyan'},#, 'intensity_bounds':(200,3000), 'slider_limits':(0,20000)},\n",
    "                  'TIF-OVR-MIP-3':{'cmap':'yellow'},#, 'intensity_bounds':(100,1200), 'slider_limits':(0,20000)},\n",
    "                  'TIF-OVR-MIP-4':{'cmap':'magenta'},#, 'intensity_bounds':(100,5000), 'slider_limits':(0,20000)},\n",
    "                  'MASK':{'cmap':'glasbey_hv_16bit', 'raster_aggregator':'first', 'intensity_bounds':(0,2**16-1), 'bitdepth':16, 'opacity':0.2},\n",
    "                  'CENTER-SURROUND':{'cmap':'glasbey_hv_16bit', 'raster_aggregator':'first', 'intensity_bounds':(0,2**16-1), 'bitdepth':16, 'opacity':0.2},\n",
    "                  'SPX':{'cmap':'glasbey_hv_16bit', 'raster_aggregator':'first', 'intensity_bounds':(0,2**16-1), 'bitdepth':16, 'opacity':0.2},\n",
    "                  'SKELETON':{'cmap':'glasbey_hv_16bit', 'raster_aggregator':'max', 'intensity_bounds':(0,2**16-1), 'bitdepth':16, 'opacity':1},}\n",
    "\n",
    "opts.defaults(opts.Image('channel', frame_width=1000))\n",
    "opts.defaults(opts.Image('channel.MASK', clipping_colors={'min': (0, 0, 0, 0)}, clim=(1,2**16-1)))\n",
    "opts.defaults(opts.Image('channel.CENTER-SURROUND', clipping_colors={'min': (0, 0, 0, 0)}, clim=(1,2**16-1)))\n",
    "opts.defaults(opts.Image('channel.SPX', clipping_colors={'min': (0, 0, 0, 0)}, clim=(1,2**16-1)))\n",
    "opts.defaults(opts.Image('channel.SKELETON', clipping_colors={'min': (0, 0, 0, 0), 'max': 'red'}, clim=(0.4,0.6)))\n",
    "\n",
    "opts.defaults(opts.Points('props_scatter', frame_width=1000, frame_height=1000, fontsize={'legend': 6}, size=10, alpha=1., line_color=None,\n",
    "                          nonselection_fill_alpha=0.1, selection_fill_alpha=0.8, selection_line_color='black', selection_line_alpha=1.,))"
   ]
  },
  {
   "cell_type": "markdown",
   "metadata": {},
   "source": [
    "# load file collection and features"
   ]
  },
  {
   "cell_type": "code",
   "execution_count": null,
   "metadata": {},
   "outputs": [],
   "source": [
    "df = pd.read_hdf(os.path.join(basedir, 'output_collection.h5'), 'dc')\n",
    "\n",
    "flat_props = pd.read_hdf(os.path.join(basedir, 'flat_props.h5'))\n",
    "\n",
    "# combine channel and layer into a single index level\n",
    "df = df[df.ext=='tif']\n",
    "df.reset_index(['channel', 'zslice', 'field'], inplace=True)\n",
    "df['overlay_layer'] = df.index.get_level_values('layer')\n",
    "\n",
    "df.loc['TIF-OVR-MIP', 'overlay_layer'] = (df.loc['TIF-OVR-MIP', 'overlay_layer'] + '-' + df.loc['TIF-OVR-MIP', 'channel'].astype(str)).values\n",
    "df = df.reset_index().set_index(['platedir', 'plate_row', 'plate_column', 'org_id', 'overlay_layer'])\n",
    "df"
   ]
  },
  {
   "cell_type": "markdown",
   "metadata": {},
   "source": [
    "# scatter dashboard\n",
    "\n",
    "- the index levels of the feature dataframe `flat_props` will become interactive filters in the viewer"
   ]
  },
  {
   "cell_type": "code",
   "execution_count": null,
   "metadata": {
    "scrolled": false
   },
   "outputs": [],
   "source": [
    "from inter_view.dashboards import ScatterDashBoard\n",
    "\n",
    "scat_db = ScatterDashBoard(df=flat_props.reset_index().set_index(['platedir', 'condition'], drop=False).sample(len(flat_props)),\n",
    "                           x_key='MASK255_area',\n",
    "                           y_key='MASK255_eccentricity',\n",
    "                           color_key='MASK255_ch1_mean',\n",
    "                           hover_keys=['condition', 'platedir', 'plate_row', 'plate_column', 'org_id'])\n",
    "\n",
    "# scat_db.panel().servable()"
   ]
  },
  {
   "cell_type": "markdown",
   "metadata": {},
   "source": [
    "# image dashboard\n",
    "\n",
    "- the index levels of the collection dataframe `df` will become interactive drop down menu in the viewer\n",
    "- if viewing overview images that contain an extra mask channel, a custom image loading function can be passed"
   ]
  },
  {
   "cell_type": "code",
   "execution_count": null,
   "metadata": {
    "scrolled": false
   },
   "outputs": [],
   "source": [
    "# from skimage.io import imread\n",
    "\n",
    "# # custom file reading\n",
    "# # reads only the first slice\n",
    "# def read_first_slice(path):\n",
    "#     return imread(path, img_num=0)\n",
    "\n",
    "seg_db = SegmentationDashBoard(df=df,\n",
    "                               multi_select_levels=['overlay_layer'],\n",
    "                               channel_config=channel_config,\n",
    "                               composite_channels=['TIF-OVR-MIP-1', 'TIF-OVR-MIP-2', 'TIF-OVR-MIP-3', 'TIF-OVR-MIP-4'],\n",
    "                               overlay_channels=['CENTER-SURROUND', 'MASK', 'SKELETON', 'SPX'],\n",
    "#                                loading_fun=read_first_slice,\n",
    "                              )\n",
    "\n",
    "# by default only display intensity channels\n",
    "seg_db.file_widgets[4].value = ['TIF-OVR-MIP-1', 'TIF-OVR-MIP-2', 'TIF-OVR-MIP-3', 'TIF-OVR-MIP-4']\n",
    "\n",
    "# seg_db.panel().servable()"
   ]
  },
  {
   "cell_type": "markdown",
   "metadata": {},
   "source": [
    "# linked dashboard\n",
    "\n",
    "- links the scatter plot to images bidirectionally\n",
    "- features and data collection dataframes must have common columns for indexing (e.g. platedir, plate_row, plate_column, etc.)"
   ]
  },
  {
   "cell_type": "code",
   "execution_count": null,
   "metadata": {
    "scrolled": false
   },
   "outputs": [],
   "source": [
    "db = LinkedScatterImageDashBoard(seg_db=seg_db, scat_db=scat_db)\n",
    "\n",
    "db.panel()"
   ]
  }
 ],
 "metadata": {
  "kernelspec": {
   "display_name": "gliberal",
   "language": "python",
   "name": "gliberal"
  },
  "language_info": {
   "codemirror_mode": {
    "name": "ipython",
    "version": 3
   },
   "file_extension": ".py",
   "mimetype": "text/x-python",
   "name": "python",
   "nbconvert_exporter": "python",
   "pygments_lexer": "ipython3",
   "version": "3.7.10"
  }
 },
 "nbformat": 4,
 "nbformat_minor": 2
}

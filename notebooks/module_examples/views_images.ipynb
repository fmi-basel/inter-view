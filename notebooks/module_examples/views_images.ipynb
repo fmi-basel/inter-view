{
 "cells": [
  {
   "cell_type": "code",
   "execution_count": null,
   "metadata": {},
   "outputs": [],
   "source": [
    "import os\n",
    "from improc.io import parse_collection, DCAccessor\n",
    "DCAccessor.register()\n",
    "\n",
    "import numpy as np\n",
    "import holoviews as hv\n",
    "hv.extension('bokeh')"
   ]
  },
  {
   "cell_type": "markdown",
   "metadata": {},
   "source": [
    "# read example images"
   ]
  },
  {
   "cell_type": "code",
   "execution_count": null,
   "metadata": {},
   "outputs": [],
   "source": [
    "from skimage.io import imread\n",
    "import os\n",
    "\n",
    "basedir = '../../data'\n",
    "\n",
    "img_files = ['2D/201031JD002regimetestAAB_20201031_173042/TIF_OVR_MIP/201102JD002AAB_201031_174004_B02_T0001F001L01A03Z01C01.tif',\n",
    "             '2D/201031JD002regimetestAAB_20201031_173042/TIF_OVR_MIP/201102JD002AAB_201031_174004_B02_T0001F001L01A02Z01C02.tif',\n",
    "             '2D/201031JD002regimetestAAB_20201031_173042/TIF_OVR_MIP/201102JD002AAB_201031_174004_B02_T0001F001L01A01Z01C03.tif']\n",
    "\n",
    "stack_files = ['3D/membrane/P21_Ch0-registered-T0289.tif',\n",
    "               '3D/nuclei/P21_Ch1-registered-T0289.tif',\n",
    "               '3D/cell_seg/P21_Ch0-registered-T0289.tif',\n",
    "               '3D/nuclei_seg/P21_Ch1-registered-T0289.tif',]\n",
    "\n",
    "imgs = [imread(os.path.join(basedir, f), img_num=0) for f in img_files]\n",
    "stacks = [imread(os.path.join(basedir, f)) for f in stack_files]"
   ]
  },
  {
   "cell_type": "markdown",
   "metadata": {},
   "source": [
    "# numpy array to hv dataset\n",
    "\n",
    "Creates a holoviews dynamic map returning a hv.Dataset and keeps a handle on the input image for live updates"
   ]
  },
  {
   "cell_type": "code",
   "execution_count": null,
   "metadata": {},
   "outputs": [],
   "source": [
    "from inter_view.utils import HvDataset\n",
    "\n",
    "ds = HvDataset(img=stacks[0], spacing=(2,0.26,0.26), label='membrane')\n",
    "\n",
    "ds.dmap(), ds.img.shape"
   ]
  },
  {
   "cell_type": "markdown",
   "metadata": {},
   "source": [
    "# view a single channel\n",
    "\n",
    "Displays an image along with colormap, intensity and opacity widgets. The image is dynamically rasterized to the displayed resolution depending on the zoom level, i.e. on-the-fly image pyramid (still requires to load the full image in memory on the server side). \n",
    "\n",
    "Viewers called with return_panel=True directly return a layout with the image and widgets. When eturn_panel=False, only the modified holoview object is returned. Useful for chaining operations, i.e. slicing volume, applying single channel settings, merging channels, etc."
   ]
  },
  {
   "cell_type": "code",
   "execution_count": null,
   "metadata": {
    "scrolled": false
   },
   "outputs": [],
   "source": [
    "from inter_view.view_images import ChannelViewer\n",
    "\n",
    "hv_dataset = HvDataset(img=imgs[0])\n",
    "channel_viewer = ChannelViewer(return_panel=True)\n",
    "\n",
    "\n",
    "channel_viewer(hv_dataset.dmap())"
   ]
  },
  {
   "cell_type": "code",
   "execution_count": null,
   "metadata": {},
   "outputs": [],
   "source": [
    "# Dynamically change the image without rebuilding the entire plot\n",
    "hv_dataset.img = imgs[2]"
   ]
  },
  {
   "cell_type": "markdown",
   "metadata": {},
   "source": [
    "# view channels as overlay"
   ]
  },
  {
   "cell_type": "code",
   "execution_count": null,
   "metadata": {
    "scrolled": false
   },
   "outputs": [],
   "source": [
    "from inter_view.view_images import OverlayViewer\n",
    "\n",
    "overlay_viewer = OverlayViewer(return_panel=True,\n",
    "                               channel_viewers={'marker1':ChannelViewer(),\n",
    "                                                'marker2':ChannelViewer(),\n",
    "                                                'marker3':ChannelViewer()})\n",
    "\n",
    "dmaps = [HvDataset(img=img).dmap() for img in imgs]\n",
    "overlay_viewer(dmaps)\n",
    "\n",
    "# alternatively, channel viewers can be automatically built from a config dictionary (see below)"
   ]
  },
  {
   "cell_type": "markdown",
   "metadata": {},
   "source": [
    "# view channels as composite rgb\n",
    "Composite viewer works the same as overlay viewer except greyscal channels are blended into a rgb image at the end. Currently max blending is used."
   ]
  },
  {
   "cell_type": "code",
   "execution_count": null,
   "metadata": {
    "scrolled": false
   },
   "outputs": [],
   "source": [
    "from inter_view.view_images import CompositeViewer\n",
    "\n",
    "# use channel config definition instead of manually instantiating ChannelViewer\n",
    "channel_config = {1:{'label':'marker1','cmap':'cyan','intensity_bounds':(200,30000), 'slider_limits':(0,60000)},\n",
    "                  2:{'label':'marker2','cmap':'magenta','intensity_bounds':(350,20000), 'slider_limits':(0,40000)},\n",
    "                  3:{'label':'marker3','cmap':'yellow','intensity_bounds':(800,60000), 'slider_limits':(0,60000)}}\n",
    "\n",
    "\n",
    "composite_viewer = CompositeViewer.from_channel_config(channel_config, return_panel=True)\n",
    "\n",
    "dmaps = [HvDataset(img=img).dmap() for img in imgs]\n",
    "composite_viewer(dmaps)"
   ]
  },
  {
   "cell_type": "markdown",
   "metadata": {},
   "source": [
    "# view segmentation"
   ]
  },
  {
   "cell_type": "code",
   "execution_count": null,
   "metadata": {
    "scrolled": false
   },
   "outputs": [],
   "source": [
    "from inter_view.view_images import SegmentationViewer\n",
    "from holoviews import opts\n",
    "\n",
    "# use channel config definition instead of manually instantiating ChannelViewer\n",
    "channel_config = {'membrane':{'cmap':'red', 'intensity_bounds':(100,60000), 'slider_limits':(0,60000)},\n",
    "                  'nuclei':{'cmap':'gray', 'intensity_bounds':(1400,20000), 'slider_limits':(0,60000)},\n",
    "                  'membrane_seg':{'cmap':'glasbey_hv_16bit', 'raster_aggregator':'first', 'bitdepth':16, 'opacity':0.2},\n",
    "                  'nuclei_seg':{'cmap':'glasbey_hv_16bit', 'raster_aggregator':'first', 'bitdepth':16, 'opacity':0.2}}\n",
    "\n",
    "opts.defaults(opts.Image('channel.membrane_seg', clipping_colors={'min': (0, 0, 0, 0)}, clim=(1,256*256-1), tools=['hover']),\n",
    "              opts.Image('channel.nuclei_seg', clipping_colors={'min': (0, 0, 0, 0)}, clim=(1,256*256-1), tools=['hover']))\n",
    "\n",
    "segmentation_viewer = SegmentationViewer.from_channel_config(channel_config,\n",
    "                                                             composite_channels=['membrane', 'nuclei'],\n",
    "                                                             overlay_channels=['membrane_seg', 'nuclei_seg'],\n",
    "                                                             return_panel=False)\n",
    "\n",
    "zslice = stacks[0].shape[0]//2\n",
    "middle_stack_imgs = [s[zslice] for s in stacks]\n",
    "dmaps = [HvDataset(img=img, label=l).dmap() for img, l in zip(middle_stack_imgs,channel_config.keys())]\n",
    "dmaps = segmentation_viewer(dmaps)\n",
    "segmentation_viewer.panel(dmaps)"
   ]
  },
  {
   "cell_type": "markdown",
   "metadata": {},
   "source": [
    "# view slice\n",
    "SliceViewer provide a slider to slice a dataset along the specified axis. The sliced dataset cannot be rendred directly and needs to be converted first (e.g. to a hv.Image). This can be accomplished by chaining operations of a ChannelViewer instance."
   ]
  },
  {
   "cell_type": "code",
   "execution_count": null,
   "metadata": {
    "scrolled": false
   },
   "outputs": [],
   "source": [
    "from inter_view.view_images import SliceViewer\n",
    "from holoviews import opts\n",
    "import panel as pn\n",
    "\n",
    "# define some default plot config\n",
    "opts.defaults(opts.Image(cmap='gray', frame_width=600))\n",
    "\n",
    "hv_dataset = HvDataset(img=stacks[1], spacing=(2,0.26,0.26))\n",
    "\n",
    "slice_viewer = SliceViewer(axis='y')\n",
    "channel_viewer = ChannelViewer()\n",
    "\n",
    "dmap = slice_viewer(hv_dataset.dmap())\n",
    "dmap = channel_viewer(dmap)\n",
    "\n",
    "# create a custom layout to show widgets from SliceViewer and ChannelViewer together\n",
    "pn.Row(dmap, pn.Column(slice_viewer.widgets(), channel_viewer.widgets()))"
   ]
  },
  {
   "cell_type": "markdown",
   "metadata": {},
   "source": [
    "# View orthogonal slices\n",
    "Slices the input dataset along x,y,z and returns 3 DynamicMap. The panel() function builds a display panel with synchronized plots + crosshair. the stack can be navigated by clicking on the images"
   ]
  },
  {
   "cell_type": "code",
   "execution_count": null,
   "metadata": {},
   "outputs": [],
   "source": [
    "from inter_view.view_images import OrthoViewer\n",
    "\n",
    "channel_config = {'membrane':{'cmap':'red', 'intensity_bounds':(100,60000), 'slider_limits':(0,60000)},\n",
    "                  'nuclei':{'cmap':'gray', 'intensity_bounds':(1400,20000), 'slider_limits':(0,60000)}}\n",
    "\n",
    "hv_datasets = [HvDataset(img=stack, spacing=(2,0.26,0.26)) for stack in stacks[:2]]\n",
    "\n",
    "ortho_viewer = OrthoViewer()\n",
    "composite_viewer = CompositeViewer.from_channel_config(channel_config)\n",
    "\n",
    "dmaps = [ortho_viewer(ds.dmap()) for ds in hv_datasets]\n",
    "\n",
    "# invert slices and channels\n",
    "dmaps = tuple(zip(*dmaps))\n",
    "\n",
    "dmaps = [composite_viewer(dmap) for dmap in dmaps]\n",
    "panel = ortho_viewer.panel(dmaps)\n",
    "\n",
    "# add the composite viewer above the orthoview widget (navigation checkbox)\n",
    "panel[1][1] = pn.Column(composite_viewer.widgets(), panel[1][1])\n",
    "\n",
    "panel"
   ]
  }
 ],
 "metadata": {
  "kernelspec": {
   "display_name": "Python [conda env:tmp]",
   "language": "python",
   "name": "conda-env-tmp-py"
  },
  "language_info": {
   "codemirror_mode": {
    "name": "ipython",
    "version": 3
   },
   "file_extension": ".py",
   "mimetype": "text/x-python",
   "name": "python",
   "nbconvert_exporter": "python",
   "pygments_lexer": "ipython3",
   "version": "3.7.10"
  }
 },
 "nbformat": 4,
 "nbformat_minor": 2
}

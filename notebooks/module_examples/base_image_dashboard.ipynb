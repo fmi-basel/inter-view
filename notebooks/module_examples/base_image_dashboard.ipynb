{
 "cells": [
  {
   "cell_type": "code",
   "execution_count": null,
   "metadata": {},
   "outputs": [],
   "source": [
    "import os\n",
    "from improc.io import parse_collection, DCAccessor\n",
    "DCAccessor.register()\n",
    "\n",
    "import numpy as np\n",
    "import holoviews as hv\n",
    "hv.extension('bokeh')"
   ]
  },
  {
   "cell_type": "code",
   "execution_count": null,
   "metadata": {},
   "outputs": [],
   "source": [
    "datadir = '../../data/2D'\n",
    "data_pattern = '{platedir}/{layer}/{f1}_{f2}_{f3}_{row}{col:02d}_T{T:04d}F{field:03d}L{L:02d}A{A:02d}Z{zslice:02d}C{channel:02d}.{ext}'\n",
    "index = ['platedir', 'layer', 'row', 'col', 'field', 'zslice', 'channel']\n",
    "\n",
    "df = parse_collection(os.path.join(datadir,data_pattern), index)\n",
    "\n",
    "df"
   ]
  },
  {
   "cell_type": "markdown",
   "metadata": {},
   "source": [
    "# base image dashboard choosing between partial dynamic updates or completely rebuilding plots\n",
    "\n",
    "Base class to build image related dashboards. Maintains 2 counter attributes indicating whether partial dynamic updates are sufficient. Complete updates are considered necessary if the image shape has changed (i.e. requires rebuilding a plot with new  bounds, aspect ratio, etc) or if the multiselection as changed (e.g. a different set of channels is selected)\n",
    "\n",
    "These parametrized counters can then be used to setup holoviews callbacks (dynamic) or panel callbacks"
   ]
  },
  {
   "cell_type": "code",
   "execution_count": null,
   "metadata": {},
   "outputs": [],
   "source": [
    "from inter_view.dashboards import BaseImageDashBoard\n",
    "import panel as pn\n",
    "\n",
    "db = BaseImageDashBoard(df=df, multi_select_levels=['zslice','channel'])\n",
    "pn.Row(db.widgets(), pn.Column(db.param._dynamic_update_counter,\n",
    "                               db.param._complete_update_counter,\n",
    "                               db.param._has_multiselect_changed,\n",
    "                               db.param._has_shape_changed))"
   ]
  }
 ],
 "metadata": {
  "kernelspec": {
   "display_name": "Python [conda env:tmp]",
   "language": "python",
   "name": "conda-env-tmp-py"
  },
  "language_info": {
   "codemirror_mode": {
    "name": "ipython",
    "version": 3
   },
   "file_extension": ".py",
   "mimetype": "text/x-python",
   "name": "python",
   "nbconvert_exporter": "python",
   "pygments_lexer": "ipython3",
   "version": "3.7.10"
  }
 },
 "nbformat": 4,
 "nbformat_minor": 2
}

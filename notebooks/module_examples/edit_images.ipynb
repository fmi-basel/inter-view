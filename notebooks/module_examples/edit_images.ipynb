{
 "cells": [
  {
   "cell_type": "code",
   "execution_count": null,
   "metadata": {},
   "outputs": [],
   "source": [
    "import os\n",
    "from improc.io import parse_collection, DCAccessor\n",
    "from skimage.io import imread\n",
    "DCAccessor.register()\n",
    "\n",
    "import numpy as np\n",
    "import holoviews as hv\n",
    "hv.extension('bokeh')"
   ]
  },
  {
   "cell_type": "markdown",
   "metadata": {},
   "source": [
    "# read example images"
   ]
  },
  {
   "cell_type": "code",
   "execution_count": null,
   "metadata": {},
   "outputs": [],
   "source": [
    "img = imread('../../data/2D_corrections/raw/201102JD006AAB_201101_153213_B02_T0001F001L01A03Z01C01_roi_5243_8490_158_2336.tif')"
   ]
  },
  {
   "cell_type": "markdown",
   "metadata": {},
   "source": [
    "# drawing interactive region of intereset (ROI)\n",
    "\n",
    "The RoiEditor generates a hv.Rectangle plot than can be overlaid on any plots. It also converts the box location into python slices, taking in account data spacing.\n",
    "\n",
    "To draw a roi, activate the box edit tool, press shift or double click and drag the mouse."
   ]
  },
  {
   "cell_type": "code",
   "execution_count": null,
   "metadata": {
    "scrolled": false
   },
   "outputs": [],
   "source": [
    "from inter_view.view_images import ChannelViewer\n",
    "from inter_view.edit_images import RoiEditor\n",
    "from inter_view.utils import HvDataset\n",
    "from holoviews import opts\n",
    "import panel as pn\n",
    "\n",
    "# show the axis \n",
    "opts.defaults(opts.Image('channel', xaxis='bottom', yaxis='left'))\n",
    "\n",
    "roi_editor = RoiEditor(num_objects=1, spacing=(0.1,0.1))\n",
    "\n",
    "hv_dataset = HvDataset(img=img, spacing=(0.1,0.1))\n",
    "channel_viewer = ChannelViewer()\n",
    "dmap = channel_viewer(hv_dataset.dmap())\n",
    "\n",
    "pn.Row(dmap * roi_editor.roi_plot, pn.Row(roi_editor.img_slice))"
   ]
  },
  {
   "cell_type": "markdown",
   "metadata": {},
   "source": [
    "## draw an ROI above before running"
   ]
  },
  {
   "cell_type": "code",
   "execution_count": null,
   "metadata": {},
   "outputs": [],
   "source": [
    "# crop the original numpy array with the roi\n",
    "\n",
    "crop_img = hv_dataset.img[roi_editor.img_slice()[0]]\n",
    "crop_dataset = HvDataset(img=crop_img)\n",
    "channel_viewer(crop_dataset.dmap())"
   ]
  },
  {
   "cell_type": "markdown",
   "metadata": {},
   "source": [
    "# label editor"
   ]
  },
  {
   "cell_type": "code",
   "execution_count": null,
   "metadata": {
    "scrolled": false
   },
   "outputs": [],
   "source": [
    "from inter_view.view_images import ChannelViewer\n",
    "from inter_view.edit_images import EditableHvDataset, FreehandEditor\n",
    "from holoviews import opts\n",
    "import panel as pn\n",
    "\n",
    "opts.defaults(opts.Image(clipping_colors={'min': (0, 0, 0, 0)}, clim=(0,2**16-1), tools=['hover']))\n",
    "\n",
    "\n",
    "img = np.zeros((256,256), dtype=np.int16)\n",
    "img[:100,:100] = 1\n",
    "img[150:200, 150:256] = 2\n",
    "\n",
    "hv_edit_dataset = EditableHvDataset(img=img, spacing=(1,1))\n",
    "freehand_editor = FreehandEditor(dataset=hv_edit_dataset)\n",
    "channel_viewer = ChannelViewer(cmap='glasbey_hv_16bit',\n",
    "                               intensity_bounds=(-2**15,2**15-1),\n",
    "                               slider_limits=(-2**15,2**15-1),\n",
    "                               raster_aggregator='first',\n",
    "                               bitdepth='int16')\n",
    "\n",
    "dmap = channel_viewer(hv_edit_dataset.dmap())\n",
    "\n",
    "pn.Row(dmap * freehand_editor.path_plot, freehand_editor.widgets())"
   ]
  },
  {
   "cell_type": "markdown",
   "metadata": {},
   "source": [
    "## edited image data can be recovered"
   ]
  },
  {
   "cell_type": "code",
   "execution_count": null,
   "metadata": {},
   "outputs": [],
   "source": [
    "hv_edit_dataset.img"
   ]
  }
 ],
 "metadata": {
  "kernelspec": {
   "display_name": "Python [conda env:tmp]",
   "language": "python",
   "name": "conda-env-tmp-py"
  },
  "language_info": {
   "codemirror_mode": {
    "name": "ipython",
    "version": 3
   },
   "file_extension": ".py",
   "mimetype": "text/x-python",
   "name": "python",
   "nbconvert_exporter": "python",
   "pygments_lexer": "ipython3",
   "version": "3.7.10"
  }
 },
 "nbformat": 4,
 "nbformat_minor": 2
}

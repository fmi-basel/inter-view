{
 "cells": [
  {
   "cell_type": "code",
   "execution_count": null,
   "metadata": {},
   "outputs": [],
   "source": [
    "import os\n",
    "from improc.io import parse_collection, DCAccessor\n",
    "DCAccessor.register()\n",
    "\n",
    "import numpy as np\n",
    "import holoviews as hv\n",
    "hv.extension('bokeh')"
   ]
  },
  {
   "cell_type": "markdown",
   "metadata": {},
   "source": [
    "# parsing a data collection into an indexable dataframe\n",
    "The parsing pattern follows python string formatting style. e.g. parsing time on 4 digits: `'{time:04d}'`"
   ]
  },
  {
   "cell_type": "code",
   "execution_count": null,
   "metadata": {},
   "outputs": [],
   "source": [
    "datadir = '../../data/2D'\n",
    "data_pattern = '{platedir}/{layer}/{f1}_{f2}_{f3}_{row}{col:02d}_T{T:04d}F{field:03d}L{L:02d}A{A:02d}Z{zslice:02d}C{channel:02d}.{ext}'\n",
    "index = ['platedir', 'layer', 'row', 'col', 'field', 'zslice', 'channel']\n",
    "\n",
    "df = parse_collection(os.path.join(datadir,data_pattern), index)\n",
    "\n",
    "df"
   ]
  },
  {
   "cell_type": "markdown",
   "metadata": {},
   "source": [
    "# build selection menu from a data collection\n",
    "\n",
    "CollectionHandler builds an interactive menu matching the index/multi-index of a dataframe. The indexed dataframe is available as \"subdf\" attribute."
   ]
  },
  {
   "cell_type": "code",
   "execution_count": null,
   "metadata": {},
   "outputs": [],
   "source": [
    "from inter_view.io import CollectionHandler\n",
    "\n",
    "collection_handler = CollectionHandler(df=df)\n",
    "collection_handler.panel()"
   ]
  },
  {
   "cell_type": "markdown",
   "metadata": {},
   "source": [
    "# extension allowing multiple selection on chosen index levels\n",
    "can for instance be used to interactively chelect channels"
   ]
  },
  {
   "cell_type": "code",
   "execution_count": null,
   "metadata": {},
   "outputs": [],
   "source": [
    "from inter_view.io import MultiCollectionHandler\n",
    "\n",
    "collection_handler = MultiCollectionHandler(df=df, multi_select_levels=['zslice', 'channel'])\n",
    "collection_handler.panel()"
   ]
  },
  {
   "cell_type": "markdown",
   "metadata": {},
   "source": [
    "# automatically loading files associated with current sub-collection\n",
    "\n",
    "DataLoader extends MultiCollectionHandler. It expects the dataframe to corresponds to files available on disc and indexable/readable with `dc` pandas accessor (see data collection parsing step). Every time the sub-collection changes, corresponding files are automatically loaded and available under dictionary argument `loaded_objects`.\n",
    "\n",
    "Reading functions available trough pandas `dc` accessor are used by default. A custom files reading function `loading_fun` can also be provided. e.g. to only read the first channel of multi-channel files. If multiple files are selected, `loading_fun` reads files in parallel with multi-threading."
   ]
  },
  {
   "cell_type": "code",
   "execution_count": null,
   "metadata": {
    "scrolled": false
   },
   "outputs": [],
   "source": [
    "from inter_view.io import DataLoader\n",
    "from skimage.io import imread\n",
    "\n",
    "def read_first_slice(path):\n",
    "    return imread(path, img_num=0)\n",
    "\n",
    "data_loader = DataLoader(df=df,\n",
    "                         multi_select_levels=['channel'],\n",
    "                         loading_fun=read_first_slice,)\n",
    "data_loader.panel()"
   ]
  },
  {
   "cell_type": "code",
   "execution_count": null,
   "metadata": {},
   "outputs": [],
   "source": [
    "data_loader.loaded_objects"
   ]
  }
 ],
 "metadata": {
  "kernelspec": {
   "display_name": "Python [conda env:tmp]",
   "language": "python",
   "name": "conda-env-tmp-py"
  },
  "language_info": {
   "codemirror_mode": {
    "name": "ipython",
    "version": 3
   },
   "file_extension": ".py",
   "mimetype": "text/x-python",
   "name": "python",
   "nbconvert_exporter": "python",
   "pygments_lexer": "ipython3",
   "version": "3.7.10"
  }
 },
 "nbformat": 4,
 "nbformat_minor": 2
}
